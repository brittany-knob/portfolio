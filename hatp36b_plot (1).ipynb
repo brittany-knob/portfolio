{
 "cells": [
  {
   "cell_type": "markdown",
   "metadata": {},
   "source": [
    "# Plotting Arrays Using matplotlib"
   ]
  },
  {
   "cell_type": "markdown",
   "metadata": {},
   "source": [
    "### For inline plotting, rather than new windows:"
   ]
  },
  {
   "cell_type": "code",
   "execution_count": 1,
   "metadata": {},
   "outputs": [
    {
     "name": "stdout",
     "output_type": "stream",
     "text": [
      "Populating the interactive namespace from numpy and matplotlib\n"
     ]
    }
   ],
   "source": [
    "%pylab inline"
   ]
  },
  {
   "cell_type": "code",
   "execution_count": 2,
   "metadata": {},
   "outputs": [],
   "source": [
    "import numpy as np\n",
    "import math\n",
    "import matplotlib.pyplot as pl # import this for plotting routines"
   ]
  },
  {
   "cell_type": "code",
   "execution_count": 33,
   "metadata": {},
   "outputs": [
    {
     "data": {
      "text/plain": [
       "['hatp36b_plot.ipynb', 'Measurements.xls', '.ipynb_checkpoints']"
      ]
     },
     "execution_count": 33,
     "metadata": {},
     "output_type": "execute_result"
    }
   ],
   "source": [
    "# Get a listing of all files in the current working directory\n",
    "import os\n",
    "os.listdir()"
   ]
  },
  {
   "cell_type": "code",
   "execution_count": 7,
   "metadata": {},
   "outputs": [
    {
     "data": {
      "text/plain": [
       "'Measurements.xls'"
      ]
     },
     "execution_count": 7,
     "metadata": {},
     "output_type": "execute_result"
    }
   ],
   "source": [
    "# Get the HAT-P 36b filename into a string variable\n",
    "import glob\n",
    "hatFile=glob.glob('*.xls')\n",
    "hatFile[0]"
   ]
  },
  {
   "cell_type": "code",
   "execution_count": 9,
   "metadata": {},
   "outputs": [
    {
     "data": {
      "text/plain": [
       "array([[5.85836013e+04, 6.52720000e-02, 2.72000000e-04],\n",
       "       [5.85836014e+04, 6.38730000e-02, 2.67000000e-04],\n",
       "       [5.85836016e+04, 6.44130000e-02, 2.70000000e-04],\n",
       "       [5.85836017e+04, 6.42090000e-02, 2.68000000e-04],\n",
       "       [5.85836018e+04, 6.42610000e-02, 2.68000000e-04],\n",
       "       [5.85836020e+04, 6.44900000e-02, 2.69000000e-04],\n",
       "       [5.85836021e+04, 6.52820000e-02, 2.69000000e-04],\n",
       "       [5.85836022e+04, 6.61170000e-02, 2.73000000e-04],\n",
       "       [5.85836024e+04, 6.44080000e-02, 2.68000000e-04],\n",
       "       [5.85836025e+04, 6.50930000e-02, 2.70000000e-04],\n",
       "       [5.85836026e+04, 6.51860000e-02, 2.71000000e-04],\n",
       "       [5.85836028e+04, 6.45690000e-02, 2.70000000e-04],\n",
       "       [5.85836029e+04, 6.56520000e-02, 2.71000000e-04],\n",
       "       [5.85836031e+04, 6.55990000e-02, 2.70000000e-04],\n",
       "       [5.85836032e+04, 6.45250000e-02, 2.68000000e-04],\n",
       "       [5.85836033e+04, 6.46120000e-02, 2.68000000e-04],\n",
       "       [5.85836035e+04, 6.47790000e-02, 2.71000000e-04],\n",
       "       [5.85836036e+04, 6.48520000e-02, 2.67000000e-04],\n",
       "       [5.85836037e+04, 6.64280000e-02, 2.74000000e-04],\n",
       "       [5.85836039e+04, 6.51930000e-02, 2.69000000e-04],\n",
       "       [5.85836040e+04, 6.55520000e-02, 2.66000000e-04],\n",
       "       [5.85836041e+04, 6.61060000e-02, 2.70000000e-04],\n",
       "       [5.85836043e+04, 6.56360000e-02, 2.72000000e-04],\n",
       "       [5.85836044e+04, 6.60590000e-02, 2.71000000e-04],\n",
       "       [5.85836046e+04, 6.53700000e-02, 2.69000000e-04],\n",
       "       [5.85836047e+04, 6.52850000e-02, 2.66000000e-04],\n",
       "       [5.85836048e+04, 6.61160000e-02, 2.79000000e-04],\n",
       "       [5.85836050e+04, 6.42960000e-02, 2.73000000e-04],\n",
       "       [5.85836051e+04, 6.53410000e-02, 2.81000000e-04],\n",
       "       [5.85836052e+04, 6.62850000e-02, 2.74000000e-04],\n",
       "       [5.85836054e+04, 6.57120000e-02, 2.74000000e-04],\n",
       "       [5.85836055e+04, 6.49980000e-02, 2.75000000e-04],\n",
       "       [5.85836056e+04, 6.50790000e-02, 2.81000000e-04],\n",
       "       [5.85836058e+04, 6.53770000e-02, 2.84000000e-04],\n",
       "       [5.85836059e+04, 6.49590000e-02, 2.86000000e-04],\n",
       "       [5.85836061e+04, 6.47820000e-02, 2.99000000e-04],\n",
       "       [5.85836062e+04, 6.43150000e-02, 3.00000000e-04],\n",
       "       [5.85836063e+04, 6.50380000e-02, 2.91000000e-04],\n",
       "       [5.85836065e+04, 6.55870000e-02, 2.81000000e-04],\n",
       "       [5.85836066e+04, 6.62320000e-02, 2.91000000e-04],\n",
       "       [5.85836067e+04, 6.49880000e-02, 2.86000000e-04],\n",
       "       [5.85836069e+04, 6.46200000e-02, 2.78000000e-04],\n",
       "       [5.85836070e+04, 6.48370000e-02, 2.77000000e-04],\n",
       "       [5.85836072e+04, 6.63440000e-02, 2.83000000e-04],\n",
       "       [5.85836073e+04, 6.66740000e-02, 2.79000000e-04],\n",
       "       [5.85836075e+04, 6.68070000e-02, 2.80000000e-04],\n",
       "       [5.85836076e+04, 6.59850000e-02, 2.73000000e-04],\n",
       "       [5.85836077e+04, 6.74050000e-02, 2.79000000e-04],\n",
       "       [5.85836079e+04, 6.62530000e-02, 2.80000000e-04],\n",
       "       [5.85836080e+04, 6.64970000e-02, 2.73000000e-04],\n",
       "       [5.85836081e+04, 6.64800000e-02, 2.74000000e-04],\n",
       "       [5.85836083e+04, 6.65000000e-02, 2.72000000e-04],\n",
       "       [5.85836084e+04, 6.50660000e-02, 2.70000000e-04],\n",
       "       [5.85836086e+04, 6.60730000e-02, 2.73000000e-04],\n",
       "       [5.85836087e+04, 6.72080000e-02, 2.75000000e-04],\n",
       "       [5.85836088e+04, 6.81610000e-02, 2.81000000e-04],\n",
       "       [5.85836090e+04, 6.76690000e-02, 2.77000000e-04],\n",
       "       [5.85836091e+04, 6.78730000e-02, 2.76000000e-04],\n",
       "       [5.85836093e+04, 6.68630000e-02, 2.73000000e-04],\n",
       "       [5.85836094e+04, 6.74480000e-02, 2.78000000e-04],\n",
       "       [5.85836095e+04, 6.64660000e-02, 2.73000000e-04],\n",
       "       [5.85836097e+04, 6.47320000e-02, 2.70000000e-04],\n",
       "       [5.85836098e+04, 6.53440000e-02, 2.70000000e-04],\n",
       "       [5.85836099e+04, 6.67990000e-02, 2.73000000e-04],\n",
       "       [5.85836101e+04, 6.79490000e-02, 2.79000000e-04],\n",
       "       [5.85836102e+04, 6.65320000e-02, 2.75000000e-04],\n",
       "       [5.85836103e+04, 6.68990000e-02, 2.75000000e-04],\n",
       "       [5.85836105e+04, 6.78740000e-02, 2.79000000e-04],\n",
       "       [5.85836106e+04, 6.75860000e-02, 2.78000000e-04],\n",
       "       [5.85836108e+04, 6.60280000e-02, 2.75000000e-04],\n",
       "       [5.85836109e+04, 6.68560000e-02, 2.78000000e-04],\n",
       "       [5.85836111e+04, 6.60560000e-02, 2.77000000e-04],\n",
       "       [5.85836112e+04, 6.80310000e-02, 2.92000000e-04],\n",
       "       [5.85836114e+04, 6.73670000e-02, 2.89000000e-04],\n",
       "       [5.85836115e+04, 6.63580000e-02, 2.86000000e-04],\n",
       "       [5.85836116e+04, 6.63750000e-02, 2.87000000e-04],\n",
       "       [5.85836118e+04, 6.72180000e-02, 2.89000000e-04],\n",
       "       [5.85836119e+04, 6.55050000e-02, 2.91000000e-04],\n",
       "       [5.85836120e+04, 6.57890000e-02, 2.95000000e-04],\n",
       "       [5.85836122e+04, 6.65520000e-02, 2.99000000e-04],\n",
       "       [5.85836123e+04, 6.59700000e-02, 3.23000000e-04],\n",
       "       [5.85836125e+04, 6.48920000e-02, 3.14000000e-04],\n",
       "       [5.85836126e+04, 6.56370000e-02, 3.21000000e-04],\n",
       "       [5.85836128e+04, 6.59950000e-02, 2.87000000e-04],\n",
       "       [5.85836129e+04, 6.59290000e-02, 2.81000000e-04],\n",
       "       [5.85836131e+04, 6.76110000e-02, 2.83000000e-04],\n",
       "       [5.85836132e+04, 6.67470000e-02, 2.79000000e-04],\n",
       "       [5.85836133e+04, 6.71420000e-02, 2.81000000e-04],\n",
       "       [5.85836135e+04, 6.79880000e-02, 2.82000000e-04],\n",
       "       [5.85836136e+04, 6.75990000e-02, 2.76000000e-04],\n",
       "       [5.85836137e+04, 6.67930000e-02, 2.74000000e-04],\n",
       "       [5.85836139e+04, 6.62910000e-02, 2.71000000e-04],\n",
       "       [5.85836140e+04, 6.67270000e-02, 2.71000000e-04],\n",
       "       [5.85836141e+04, 6.70640000e-02, 2.70000000e-04],\n",
       "       [5.85836143e+04, 6.71790000e-02, 2.75000000e-04],\n",
       "       [5.85836144e+04, 6.66360000e-02, 2.71000000e-04],\n",
       "       [5.85836146e+04, 6.57240000e-02, 2.69000000e-04],\n",
       "       [5.85836147e+04, 6.68510000e-02, 2.70000000e-04],\n",
       "       [5.85836148e+04, 6.74460000e-02, 2.74000000e-04],\n",
       "       [5.85836150e+04, 6.61560000e-02, 2.70000000e-04],\n",
       "       [5.85836151e+04, 6.69720000e-02, 2.73000000e-04],\n",
       "       [5.85836152e+04, 6.76180000e-02, 2.78000000e-04],\n",
       "       [5.85836154e+04, 6.67510000e-02, 2.75000000e-04],\n",
       "       [5.85836155e+04, 6.75570000e-02, 2.74000000e-04],\n",
       "       [5.85836156e+04, 6.80930000e-02, 2.75000000e-04],\n",
       "       [5.85836158e+04, 6.74370000e-02, 2.72000000e-04],\n",
       "       [5.85836159e+04, 6.65880000e-02, 2.70000000e-04],\n",
       "       [5.85836161e+04, 6.61150000e-02, 2.68000000e-04],\n",
       "       [5.85836162e+04, 6.74980000e-02, 2.71000000e-04],\n",
       "       [5.85836163e+04, 6.66120000e-02, 2.69000000e-04]])"
      ]
     },
     "execution_count": 9,
     "metadata": {},
     "output_type": "execute_result"
    }
   ],
   "source": [
    "# Read in the HAT-P 36b data\n",
    "# NOTE: You will have to change the \"usecols\" settings! \n",
    "# You want the columns with headings: \"J.D.-2400000\", \"rel_flux_T1\", \"rel_flux_err_T1\"\n",
    "hatData = np.loadtxt(hatFile[0],skiprows=1,delimiter='\\t',usecols=[4,15,22])\n",
    "hatData"
   ]
  },
  {
   "cell_type": "code",
   "execution_count": 17,
   "metadata": {},
   "outputs": [],
   "source": [
    "# Interpret the data for plotting\n",
    "hatDmd=58583.5683565 # midpoint of transit in \"JD-2400000\" form\n",
    "hatDx =24*(hatData[:,0]-hatDmd) # times relative to mid-transit, in hours\n",
    "hatFy =hatData[:,1] # Relative fluxes for target star\n",
    "hatFyu=hatData[:,2] # uncertainties"
   ]
  },
  {
   "cell_type": "code",
   "execution_count": 32,
   "metadata": {},
   "outputs": [],
   "source": [
    "# Smoothed lightcurve for overplotting\n",
    "box_pts=11 # number of data points to average for smoothing\n",
    "box = np.ones(box_pts)/box_pts\n",
    "hatFys = np.convolve(hatFy, box, mode='same')\n",
    "nb2=int((box_pts-1)/2)"
   ]
  },
  {
   "cell_type": "code",
   "execution_count": 31,
   "metadata": {},
   "outputs": [
    {
     "data": {
      "image/png": "[encoded data removed]",
      "text/plain": [
       "<Figure size 432x288 with 1 Axes>"
      ]
     },
     "metadata": {
      "needs_background": "light"
     },
     "output_type": "display_data"
    }
   ],
   "source": [
    "# Make a plot!\n",
    "pl.errorbar(hatDx,hatFy,hatFyu,marker='.',ls='')\n",
    "pl.plot(hatDx[nb2:-nb2],hatFys[nb2:-nb2],color='r')\n",
    "pl.xlabel('Time (h) from Transit Midpoint')\n",
    "pl.ylabel('Relative Flux')\n",
    "pl.title('HAT-P 36b')\n",
    "pl.show()"
   ]
  },
  {
   "cell_type": "code",
   "execution_count": null,
   "metadata": {},
   "outputs": [],
   "source": []
  }
 ],
 "metadata": {
  "kernelspec": {
   "display_name": "Python 3",
   "language": "python",
   "name": "python3"
  },
  "language_info": {
   "codemirror_mode": {
    "name": "ipython",
    "version": 3
   },
   "file_extension": ".py",
   "mimetype": "text/x-python",
   "name": "python",
   "nbconvert_exporter": "python",
   "pygments_lexer": "ipython3",
   "version": "3.7.3"
  }
 },
 "nbformat": 4,
 "nbformat_minor": 1
}
